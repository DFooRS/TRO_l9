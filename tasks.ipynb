{
 "cells": [
  {
   "cell_type": "code",
   "execution_count": 1,
   "id": "94a7cc5a",
   "metadata": {},
   "outputs": [],
   "source": [
    "import cv2\n",
    "import numpy as np"
   ]
  },
  {
   "cell_type": "markdown",
   "id": "1959b77c",
   "metadata": {},
   "source": [
    "# Задание 3.1\n",
    "Вычислить площадь s, периметр р, ширину w, высоту h, отношение ширины к высоте w/h, отношение площади изображения к площади описывающего прямоугольника s/(wh), эквивалентный диаметр, центр масс, моменты бинарного изображения."
   ]
  },
  {
   "cell_type": "code",
   "execution_count": 6,
   "id": "aefff3a8",
   "metadata": {},
   "outputs": [],
   "source": [
    "img = cv2.imread('jaguar.jpg', 0)\n",
    "imag = cv2.imread('jaguar.jpg', 0)\n",
    "ret, thresh = cv2.threshold(img, 0, 255, 0)\n",
    "contours, hierarchy = cv2.findContours(thresh, 5, 5)\n",
    "cnt = contours[0]"
   ]
  },
  {
   "cell_type": "markdown",
   "id": "dd710707",
   "metadata": {},
   "source": [
    "У функции findContours два возвращаемых значения: первое – контур, а второе – топологическая структура (иерархия). Контур (первое возвращаемое значение) – это список, в котором хранятся все контуры изображения. Каждый контур пред-\n",
    "ставляет собой массив numpy, содержащий координаты точек границы объекта (x, y)."
   ]
  },
  {
   "cell_type": "code",
   "execution_count": 8,
   "id": "84157d10",
   "metadata": {},
   "outputs": [
    {
     "name": "stdout",
     "output_type": "stream",
     "text": [
      "Площадь: 2344473.0\n",
      "Периметр: 9215.81656563282\n",
      "Моменты: {'m00': 2344473.0, 'm10': 1859361941.6666665, 'm01': 1881122050.8333333, 'm20': 1960771212768.8333, 'm11': 1479807802980.9165, 'm02': 1955727235207.0, 'm30': 2313898459600535.5, 'm21': 1548919845203393.2, 'm12': 1540345345381533.2, 'm03': 2283824240888970.5, 'mu20': 486142658668.0027, 'mu11': -12078326204.38379, 'mu02': 446381565569.7698, 'mu30': -12259139499061.5, 'mu21': -5175256276443.4375, 'mu12': 8673546258907.25, 'mu03': -1703483132929.5, 'nu20': 0.088444994777566, 'nu11': -0.002197436244322689, 'nu02': 0.08121117234145443, 'nu30': -0.0014566221108439407, 'nu21': -0.0006149202170452906, 'nu12': 0.0010305845088979734, 'nu03': -0.00020240663686588902}\n",
      "0, 0, Ширина: 1564, высота: 1564\n",
      "Отношение ширины к высоте: 1.0, отношение s/(wh): 0.9584550238420733\n",
      "Эквивалентный диаметр: 1727.7371718996733\n"
     ]
    },
    {
     "data": {
      "text/plain": [
       "-1"
      ]
     },
     "execution_count": 8,
     "metadata": {},
     "output_type": "execute_result"
    }
   ],
   "source": [
    "ar = cv2.contourArea(cnt)\n",
    "print(f\"Площадь: {ar}\")\n",
    "\n",
    "prm = cv2.arcLength(cnt,True)\n",
    "print(f\"Периметр: {prm}\")\n",
    "\n",
    "M = cv2.moments(cnt)\n",
    "print(f\"Моменты: {M}\")\n",
    "\n",
    "x,y,w,h = cv2.boundingRect(cnt)\n",
    "print(f\"{x}, {y}, Ширина: {h}, высота: {w}\")\n",
    "\n",
    "imag = cv2.rectangle(imag,(x,y),(x+w,y+h),(0,255,0),2)\n",
    "cv2.imshow('Rectan', imag)\n",
    "asprat = float(w) / h \n",
    "rectar = w * h\n",
    "extent = float(ar)/rectar\n",
    "eqdiam = np.sqrt(4 * ar / np.pi)\n",
    "print(f\"Отношение ширины к высоте: {asprat}, отношение s/(wh): {extent}\")\n",
    "print(f\"Эквивалентный диаметр: {eqdiam}\")\n",
    "cv2.waitKey(0)"
   ]
  },
  {
   "cell_type": "markdown",
   "id": "386d1853",
   "metadata": {},
   "source": [
    "# Задание 3.2\n",
    "Используя изображение маски определить крайние точки, минимальное и максимальное значения и их координаты для бинарного изображения. Найти среднюю интенсивность изображения в градациях серого, ориентацию бинарного изображения с выделенной осью."
   ]
  },
  {
   "cell_type": "code",
   "execution_count": 19,
   "id": "7e7aa0e9",
   "metadata": {},
   "outputs": [
    {
     "name": "stdout",
     "output_type": "stream",
     "text": [
      "Пиксельные точки:\n",
      " [[   0    0]\n",
      " [   0    1]\n",
      " [   0    2]\n",
      " ...\n",
      " [1563 1561]\n",
      " [1563 1562]\n",
      " [1563 1563]]\n",
      "Максимальное и минимальное значения и их координаты:0.0, 255.0, (984, 3), (518, 940)\n",
      "Крайние точки:(0, 0), (1563, 0), (0, 0), (1563, 1563)\n",
      "Средняя интенсивность: (94.45942665696055, 0.0, 0.0, 0.0)\n",
      "Ориентация: 98.41520690917969\n"
     ]
    },
    {
     "data": {
      "text/plain": [
       "-1"
      ]
     },
     "execution_count": 19,
     "metadata": {},
     "output_type": "execute_result"
    }
   ],
   "source": [
    "img = cv2.imread('jaguar.jpg', 0)\n",
    "imag = cv2.imread('jaguar.jpg', 0)\n",
    "ret, thresh = cv2.threshold(img, 0, 255, 0)\n",
    "contours, hierarchy = cv2.findContours(thresh, 5, 5)\n",
    "cnt = contours[0]\n",
    "mask = np.zeros(img.shape, np.uint8)\n",
    "cv2.drawContours(mask, [cnt], 0, 255, -1)\n",
    "pixpoin = np.transpose(np.nonzero(mask))\n",
    "minv, maxv, minl, maxl = cv2.minMaxLoc(img, mask=mask)\n",
    "leftmost = tuple(cnt[cnt[:, :, 0].argmin()][0])\n",
    "rightmost = tuple(cnt[cnt[:, :, 0].argmax()][0])\n",
    "topmost = tuple(cnt[cnt[:, :, 1].argmin()][0])\n",
    "bottommost = tuple(cnt[cnt[:, :, 1].argmax()][0])\n",
    "(x,y),(MA,ma),ang=cv2.fitEllipse(cnt)\n",
    "meanv = cv2.mean(img,mask = mask)\n",
    "print(f\"Пиксельные точки:\\n {pixpoin}\")\n",
    "print(\"Максимальное и минимальное значения и их координаты:\"\n",
    "      f\"{minv}, {maxv}, {minl}, {maxl}\")\n",
    "print(f\"Крайние точки:{leftmost}, {rightmost}, {topmost}, {bottommost}\")\n",
    "print(f\"Средняя интенсивность: {meanv}\")\n",
    "print(f\"Ориентация: {ang}\")\n",
    "cv2.waitKey(0)"
   ]
  },
  {
   "cell_type": "code",
   "execution_count": null,
   "id": "c4f50153",
   "metadata": {},
   "outputs": [],
   "source": []
  }
 ],
 "metadata": {
  "kernelspec": {
   "display_name": "Python 3 (ipykernel)",
   "language": "python",
   "name": "python3"
  },
  "language_info": {
   "codemirror_mode": {
    "name": "ipython",
    "version": 3
   },
   "file_extension": ".py",
   "mimetype": "text/x-python",
   "name": "python",
   "nbconvert_exporter": "python",
   "pygments_lexer": "ipython3",
   "version": "3.9.13"
  }
 },
 "nbformat": 4,
 "nbformat_minor": 5
}
